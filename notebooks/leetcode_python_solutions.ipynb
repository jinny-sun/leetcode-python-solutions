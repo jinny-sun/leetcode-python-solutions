{
 "cells": [
  {
   "cell_type": "markdown",
   "metadata": {},
   "source": [
    "# Easy Leetcode Practice Questions"
   ]
  },
  {
   "cell_type": "markdown",
   "metadata": {},
   "source": [
    "## Leetcode 7\n",
    "\n",
    "Problem: Given a 32-bit signed integer, reverse digits of an integer.\n",
    "\n",
    "Input: integer\n",
    "Output: integer"
   ]
  },
  {
   "cell_type": "markdown",
   "metadata": {
    "ExecuteTime": {
     "end_time": "2020-07-07T17:56:53.660615Z",
     "start_time": "2020-07-07T17:56:53.656541Z"
    }
   },
   "source": [
    "### Method one\n",
    "Approach: \n",
    "* Convert numeric to string, reverse string, then convert back to numeric\n",
    "\n",
    "Time complexity: O(N)\n",
    "\n",
    "Space complexity: O(1)\n"
   ]
  },
  {
   "cell_type": "code",
   "execution_count": 32,
   "metadata": {
    "ExecuteTime": {
     "end_time": "2020-07-07T18:11:39.189656Z",
     "start_time": "2020-07-07T18:11:39.184867Z"
    }
   },
   "outputs": [],
   "source": [
    "def reverse(x):\n",
    "    \"\"\"\n",
    "    :type x: int\n",
    "    :rtype: int\n",
    "    \"\"\"\n",
    "    if x == 0:\n",
    "        return(0)\n",
    "    elif x > 0:\n",
    "        x = str(x)\n",
    "        x = x[::-1]\n",
    "        return(int(x) if int(x) < pow(2,31) else 0)\n",
    "    else:\n",
    "        x = str(x)\n",
    "        x = '-' + x[:0:-1]\n",
    "        return(int(x) if int(x) > -pow(2,31) else 0)"
   ]
  },
  {
   "cell_type": "code",
   "execution_count": 33,
   "metadata": {
    "ExecuteTime": {
     "end_time": "2020-07-07T18:11:44.990968Z",
     "start_time": "2020-07-07T18:11:44.987361Z"
    }
   },
   "outputs": [
    {
     "data": {
      "text/plain": [
       "321"
      ]
     },
     "execution_count": 33,
     "metadata": {},
     "output_type": "execute_result"
    }
   ],
   "source": [
    "reverse(123)"
   ]
  },
  {
   "cell_type": "code",
   "execution_count": 34,
   "metadata": {
    "ExecuteTime": {
     "end_time": "2020-07-07T18:11:53.968029Z",
     "start_time": "2020-07-07T18:11:53.964401Z"
    }
   },
   "outputs": [
    {
     "data": {
      "text/plain": [
       "-123"
      ]
     },
     "execution_count": 34,
     "metadata": {},
     "output_type": "execute_result"
    }
   ],
   "source": [
    "reverse(-123)"
   ]
  },
  {
   "cell_type": "markdown",
   "metadata": {},
   "source": [
    "## Leetcode 13\n",
    "\n",
    "Problem: Convert Roman numerals to integer\n",
    "\n",
    "Input: String\n",
    "Output: Integer"
   ]
  },
  {
   "cell_type": "markdown",
   "metadata": {},
   "source": [
    "### Method one\n",
    "\n",
    "Approach:\n",
    "* Convert string character to integer using dictionary\n",
    "* Add integers if larger numeral followed by smaller numerals: VIII would be 10 - 2 = 8\n",
    "* Subtract integers of smaller numeral followed by larger numeral: IV would be 5 - 1 = 4\n",
    "\n",
    "Time complexity: O(N)\n",
    "* for loop\n",
    "\n",
    "Space complexity: O(1)"
   ]
  },
  {
   "cell_type": "code",
   "execution_count": null,
   "metadata": {
    "ExecuteTime": {
     "end_time": "2020-07-07T17:50:42.841865Z",
     "start_time": "2020-07-07T17:50:42.836784Z"
    }
   },
   "outputs": [],
   "source": [
    "def romanToInt(s):\n",
    "    \"\"\"\n",
    "    :type s: str\n",
    "    :rtype: int\n",
    "    \"\"\"\n",
    "    roman_dict = {'I':1, 'V':5, 'X':10, \n",
    "                  'L':50, 'C':100, 'D':500, 'M':1000}\n",
    "    prev, total = 0, 0\n",
    "\n",
    "    for c in s:\n",
    "        curr = roman_dict[c]\n",
    "        if prev < curr:\n",
    "            total -= prev\n",
    "            total += curr - prev\n",
    "        else:\n",
    "            total += curr\n",
    "        prev = curr\n",
    "    return(total)"
   ]
  },
  {
   "cell_type": "code",
   "execution_count": null,
   "metadata": {
    "ExecuteTime": {
     "end_time": "2020-07-07T17:51:01.605327Z",
     "start_time": "2020-07-07T17:51:01.601208Z"
    }
   },
   "outputs": [],
   "source": [
    "romanToInt('III')"
   ]
  },
  {
   "cell_type": "code",
   "execution_count": null,
   "metadata": {
    "ExecuteTime": {
     "end_time": "2020-07-07T17:51:17.176148Z",
     "start_time": "2020-07-07T17:51:17.172332Z"
    }
   },
   "outputs": [],
   "source": [
    "romanToInt('IV')"
   ]
  },
  {
   "cell_type": "code",
   "execution_count": null,
   "metadata": {
    "ExecuteTime": {
     "end_time": "2020-07-07T17:50:47.544273Z",
     "start_time": "2020-07-07T17:50:47.540008Z"
    }
   },
   "outputs": [],
   "source": [
    "romanToInt('LVIII')"
   ]
  },
  {
   "cell_type": "code",
   "execution_count": null,
   "metadata": {
    "ExecuteTime": {
     "end_time": "2020-07-07T17:51:46.786403Z",
     "start_time": "2020-07-07T17:51:46.782476Z"
    }
   },
   "outputs": [],
   "source": [
    "romanToInt('MCMXCIV')"
   ]
  },
  {
   "cell_type": "markdown",
   "metadata": {
    "heading_collapsed": true
   },
   "source": [
    "## Leetcode 26"
   ]
  },
  {
   "cell_type": "markdown",
   "metadata": {
    "hidden": true
   },
   "source": [
    "Problem: Return length of unique values. Don't have to remove duplicate elements from nums.\n",
    "\n",
    "Data: List of integers\n",
    "\n",
    "Output: Number of unique values (integer)"
   ]
  },
  {
   "cell_type": "markdown",
   "metadata": {
    "hidden": true
   },
   "source": [
    "### Method one\n",
    "Approach:\n",
    "* If a number (i) if the same as previous number (i-1), remove it. \n",
    "* Return the length of the list, which gives the number of unique values\n",
    "\n",
    "Expected output:\n",
    "* One duplicate number, so final length should be len(nums)-1 = 2\n",
    "\n",
    "Time complexity:\n",
    "* O(k*N) due to pop duplicate at k location and for loop of length N.\n",
    "\n",
    "Space complexity: \n",
    "* O(1)"
   ]
  },
  {
   "cell_type": "code",
   "execution_count": null,
   "metadata": {
    "hidden": true
   },
   "outputs": [],
   "source": [
    "def removeDuplicates(nums):\n",
    "    \"\"\"\n",
    "    :type nums: List[int]\n",
    "    :rtype: int\n",
    "    \"\"\"\n",
    "    if len(nums) == 0:\n",
    "        return 0\n",
    "    for i in reversed(range(1,len(nums))):\n",
    "        if nums[i] == nums[i-1]:\n",
    "            nums.pop(i)\n",
    "    return len(nums)"
   ]
  },
  {
   "cell_type": "code",
   "execution_count": null,
   "metadata": {
    "hidden": true,
    "scrolled": true
   },
   "outputs": [],
   "source": [
    "nums = [1, 1, 2]\n",
    "removeDuplicates(nums)"
   ]
  },
  {
   "cell_type": "markdown",
   "metadata": {
    "hidden": true
   },
   "source": [
    "### Method two\n",
    "Approach:\n",
    "* Find unique values using `set`, which returns a dictionary of unique values.\n",
    "* Convert dictionary into string to get list of unique values\n",
    "* Return length of list to get number of unique values\n",
    "\n",
    "Expected output:\n",
    "* One duplicate number, so final length should be len(nums)-1 = 2\n",
    "\n",
    "Time complexity:\n",
    "* O(N) for set?\n",
    "\n",
    "Space complexity: \n",
    "* O(1)"
   ]
  },
  {
   "cell_type": "code",
   "execution_count": null,
   "metadata": {
    "hidden": true
   },
   "outputs": [],
   "source": [
    "def removeDuplicates(nums):\n",
    "    \"\"\"\n",
    "    :type nums: List[int]\n",
    "    :rtype: int\n",
    "    \"\"\"\n",
    "    nums[:] = list(set(nums))\n",
    "    return len(nums)\n",
    "\n",
    "nums = [1, 1, 2]\n",
    "removeDuplicates(nums)"
   ]
  },
  {
   "cell_type": "markdown",
   "metadata": {
    "hidden": true
   },
   "source": [
    "This method doesn't work for this example however since it returns the list with the negative as the highest value. Need to sort the output array.\n",
    "\n",
    "Time complexity: \n",
    "* O(N<sup>2</sup>logN) for sorted (NlogN) and set (N)?"
   ]
  },
  {
   "cell_type": "code",
   "execution_count": null,
   "metadata": {
    "hidden": true
   },
   "outputs": [],
   "source": [
    "def removeDuplicates(nums):\n",
    "    \"\"\"\n",
    "    :type nums: List[int]\n",
    "    :rtype: int\n",
    "    \"\"\"\n",
    "    nums[:] = sorted(list(set(nums)))\n",
    "    return len(nums)\n",
    "\n",
    "nums = [-1,0,0,0,0,3,3]\n",
    "removeDuplicates(nums)"
   ]
  },
  {
   "cell_type": "markdown",
   "metadata": {
    "heading_collapsed": true
   },
   "source": [
    "## Leetcode 122"
   ]
  },
  {
   "cell_type": "markdown",
   "metadata": {
    "hidden": true
   },
   "source": [
    "Problem: Calculate max profit given price per day. Can only purchase and sell one stock at a time.\n",
    "\n",
    "Data: List of Integers\n",
    "\n",
    "Output: Maximum profit (integer)"
   ]
  },
  {
   "cell_type": "markdown",
   "metadata": {
    "hidden": true
   },
   "source": [
    "### Method one\n",
    "Approach:\n",
    "* Calculate differences between stock prices each day. If prices increase, add the difference between the two prices.\n",
    "* Return the summed profits\n",
    "\n",
    "Expected output: 7\n",
    "* 1-7 = no profit\n",
    "* 5-1 = 4\n",
    "* 3-5 = no profit\n",
    "* 6-3 = 3\n",
    "* 4-6 = no profit\n",
    "\n",
    "Time complexity: \n",
    "* O(N)\n",
    "\n",
    "Space complexity:\n",
    "* O(1)"
   ]
  },
  {
   "cell_type": "code",
   "execution_count": null,
   "metadata": {
    "hidden": true
   },
   "outputs": [],
   "source": [
    "def maxProfit(prices):\n",
    "    \"\"\"\n",
    "    :type prices: List[int]\n",
    "    :rtype: int\n",
    "    \"\"\"\n",
    "    maxprofit = 0\n",
    "    for i in range(1,len(prices)):\n",
    "        if prices[i] > prices [i-1]:\n",
    "            maxprofit += prices[i] - prices[i-1]\n",
    "    return(maxprofit)"
   ]
  },
  {
   "cell_type": "code",
   "execution_count": null,
   "metadata": {
    "hidden": true
   },
   "outputs": [],
   "source": [
    "prices = [7,1,5,3,6,4]\n",
    "maxProfit(prices)"
   ]
  },
  {
   "cell_type": "markdown",
   "metadata": {
    "heading_collapsed": true
   },
   "source": [
    "## Leetcode 136\n",
    "Problem: Given a non-empty array of integers, every element appears twice except for one. Find that single one.\n",
    "\n",
    "Data: List of integers\n",
    "Output: integer"
   ]
  },
  {
   "cell_type": "markdown",
   "metadata": {
    "hidden": true
   },
   "source": [
    "### Method One\n",
    "\n",
    "Iterate through list and only append integers that do not have a duplicate value.\n",
    "\n",
    "Time complexity: O(N<sup>2</sup>)\n",
    "* Append/remove within a for loop\n",
    "\n",
    "Space complexity: O(N)"
   ]
  },
  {
   "cell_type": "code",
   "execution_count": null,
   "metadata": {
    "ExecuteTime": {
     "end_time": "2020-07-06T18:18:15.148065Z",
     "start_time": "2020-07-06T18:18:15.144173Z"
    },
    "hidden": true
   },
   "outputs": [],
   "source": [
    "def singleNumber(nums):\n",
    "    \"\"\"\n",
    "    :type nums: List[int]\n",
    "    :rtype: int\n",
    "    \"\"\"\n",
    "    not_duplicate = []\n",
    "    for i in nums:\n",
    "        if i not in not_duplicate:\n",
    "            not_duplicate.append(i)\n",
    "        else:\n",
    "            not_duplicate.remove(i)  \n",
    "    return not_duplicate.pop()"
   ]
  },
  {
   "cell_type": "markdown",
   "metadata": {
    "hidden": true
   },
   "source": [
    "### Method two\n",
    "Use dictionary instead of list to count number of times an integer appears.\n",
    "\n",
    "Time complexity = O(N)\n",
    "* for loop\n",
    "\n",
    "Space complexity = O(N)\n",
    "* dictionary is length N"
   ]
  },
  {
   "cell_type": "code",
   "execution_count": null,
   "metadata": {
    "ExecuteTime": {
     "end_time": "2020-07-06T19:46:23.437211Z",
     "start_time": "2020-07-06T19:46:23.433821Z"
    },
    "hidden": true
   },
   "outputs": [],
   "source": [
    "def singleNumber(nums):\n",
    "    \"\"\"\n",
    "    :type nums: List[int]\n",
    "    :rtype: int\n",
    "    \"\"\"\n",
    "    from collections import defaultdict\n",
    "    hash_table = defaultdict(int)\n",
    "    for i in nums:\n",
    "        hash_table[i] += 1\n",
    "\n",
    "    for i in hash_table:\n",
    "        if hash_table[i] == 1:\n",
    "            return i"
   ]
  },
  {
   "cell_type": "markdown",
   "metadata": {
    "hidden": true
   },
   "source": [
    "### Method three\n",
    "\n",
    "Count number of times an integer appears, return if count == 1.\n",
    "\n",
    "Time complexity = O(N)\n",
    "* for loop\n",
    "\n",
    "Space complexity = O(N)\n",
    "* Size of nums"
   ]
  },
  {
   "cell_type": "code",
   "execution_count": null,
   "metadata": {
    "ExecuteTime": {
     "end_time": "2020-07-06T19:43:34.064900Z",
     "start_time": "2020-07-06T19:43:34.061533Z"
    },
    "hidden": true
   },
   "outputs": [],
   "source": [
    "def singleNumber(nums):\n",
    "    \"\"\"\n",
    "    :type nums: List[int]\n",
    "    :rtype: int\n",
    "    \"\"\"\n",
    "    for i in nums:\n",
    "        if nums.count(i)==1:\n",
    "            return i"
   ]
  },
  {
   "cell_type": "markdown",
   "metadata": {
    "hidden": true
   },
   "source": [
    "### Method four\n",
    "\n",
    "2*unique values - (list of integers) = integer without duplicate value\n",
    "\n",
    "Time complexity = O(N)\n",
    "* sum\n",
    "\n",
    "Space complexity = O(N)\n",
    "* Size of nums"
   ]
  },
  {
   "cell_type": "code",
   "execution_count": null,
   "metadata": {
    "ExecuteTime": {
     "end_time": "2020-07-06T19:37:47.342367Z",
     "start_time": "2020-07-06T19:37:47.339045Z"
    },
    "hidden": true
   },
   "outputs": [],
   "source": [
    "def singleNumber(nums):\n",
    "    \"\"\"\n",
    "    :type nums: List[int]\n",
    "    :rtype: int\n",
    "    \"\"\"\n",
    "    return(2*sum(set(nums))-sum(nums))"
   ]
  },
  {
   "cell_type": "markdown",
   "metadata": {
    "hidden": true
   },
   "source": [
    "### Examples"
   ]
  },
  {
   "cell_type": "code",
   "execution_count": null,
   "metadata": {
    "ExecuteTime": {
     "end_time": "2020-07-06T19:43:36.137061Z",
     "start_time": "2020-07-06T19:43:36.132567Z"
    },
    "hidden": true
   },
   "outputs": [],
   "source": [
    "nums = [2,2,1]\n",
    "singleNumber(nums)"
   ]
  },
  {
   "cell_type": "code",
   "execution_count": null,
   "metadata": {
    "ExecuteTime": {
     "end_time": "2020-07-06T19:43:36.923963Z",
     "start_time": "2020-07-06T19:43:36.919836Z"
    },
    "hidden": true
   },
   "outputs": [],
   "source": [
    "nums = [4,1,2,1,2]\n",
    "singleNumber(nums)"
   ]
  },
  {
   "cell_type": "markdown",
   "metadata": {
    "heading_collapsed": true
   },
   "source": [
    "## Leetcode 189"
   ]
  },
  {
   "cell_type": "markdown",
   "metadata": {
    "hidden": true
   },
   "source": [
    "Problem: Rotate an array by k steps. For example, [1,2,3,4] rotated by k=1 is [4,1,2,3]\n",
    "\n",
    "Data: List of integers\n",
    "\n",
    "Output: List of integers"
   ]
  },
  {
   "cell_type": "markdown",
   "metadata": {
    "hidden": true
   },
   "source": [
    "### Method one\n",
    "\n",
    "Approach: \n",
    "* Store previous value in temporary variable\n",
    "* Replace i value with previous value, and store value in temporary variable ([7,2,3,4,5,6,7], previous = [1])\n",
    "* Go to the next index and replace the value with the previous value, until entire array has been rotated ([7,1,2,3,4,5,6])\n",
    "* Repeat this k times\n",
    "\n",
    "Expected Output: \n",
    "* Original list [1,2,3,4,5,6,7]\n",
    "* rotate once: [7,1,2,3,4,5,6]\n",
    "* rotate twice: [6,7,1,2,3,4,5]\n",
    "* rotate three times: [5,6,7,1,2,3,4]\n",
    "\n",
    "Time complexity:\n",
    "* O(k*N)\n",
    "\n",
    "Space complexity:\n",
    "* O(1)"
   ]
  },
  {
   "cell_type": "code",
   "execution_count": null,
   "metadata": {
    "hidden": true
   },
   "outputs": [],
   "source": [
    "def rotate(nums, k):\n",
    "    \"\"\"\n",
    "    :type nums: List[int]\n",
    "    :type k: int\n",
    "    :rtype: None Do not return anything, modify nums in-place instead.\n",
    "    \"\"\"\n",
    "    for i in range(k):\n",
    "        previous = nums[-1]\n",
    "        for j in range(len(nums)):\n",
    "            nums[j], previous = previous, nums[j]\n",
    "    return(nums)"
   ]
  },
  {
   "cell_type": "code",
   "execution_count": null,
   "metadata": {
    "hidden": true
   },
   "outputs": [],
   "source": [
    "nums = [1,2,3,4,5,6,7]\n",
    "k = 3\n",
    "rotate(nums,k)"
   ]
  },
  {
   "cell_type": "markdown",
   "metadata": {
    "hidden": true
   },
   "source": [
    "### Method two\n",
    "\n",
    "Approach:\n",
    "* Create a new array of length N\n",
    "* Write each element of new array based on k rotations\n",
    "\n",
    "Time Complexity:\n",
    "* O(N) to iterate for i in range\n",
    "\n",
    "Space complexity:\n",
    "* O(1)"
   ]
  },
  {
   "cell_type": "code",
   "execution_count": null,
   "metadata": {
    "hidden": true
   },
   "outputs": [],
   "source": [
    "def rotate(nums,k):\n",
    "    \"\"\"\n",
    "    :type nums: List[int]\n",
    "    :type k: int\n",
    "    :rtype: None Do not return anything, modify nums in-place instead.\n",
    "    \"\"\"\n",
    "    new_array = [0]*len(nums)\n",
    "    for i in range(len(nums)):\n",
    "        new_array[(i+k) % len(nums)] = nums[i]\n",
    "    nums[:] = new_array\n",
    "    return(nums)"
   ]
  },
  {
   "cell_type": "code",
   "execution_count": null,
   "metadata": {
    "hidden": true
   },
   "outputs": [],
   "source": [
    "nums = [1,2,3,4,5,6,7]\n",
    "k = 3\n",
    "rotate(nums,k)"
   ]
  },
  {
   "cell_type": "markdown",
   "metadata": {
    "hidden": true
   },
   "source": [
    "### Method three *\n",
    "\n",
    "Approach:\n",
    "* Rewrite i value as i+k value\n",
    "* Store previous value in a temporary variable\n",
    "* Replace values k steps away, one at a time, while storing previous value in temporary variable.\n",
    "\n",
    "Time complexity: O(N)\n",
    "\n",
    "Space complexity: O(1)"
   ]
  },
  {
   "cell_type": "code",
   "execution_count": null,
   "metadata": {
    "hidden": true
   },
   "outputs": [],
   "source": [
    "def rotate(nums: List[int], k: int) -> None:\n",
    "        n = len(nums)\n",
    "        k %= n\n",
    "        \n",
    "        start = count = 0\n",
    "        while count < n:\n",
    "            current, prev = start, nums[start]\n",
    "            while True:\n",
    "                next_idx = (current + k) % n\n",
    "                nums[next_idx], prev = prev, nums[next_idx]\n",
    "                current = next_idx\n",
    "                count += 1\n",
    "                \n",
    "                if start == current:\n",
    "                    break\n",
    "            start += 1"
   ]
  },
  {
   "cell_type": "markdown",
   "metadata": {
    "hidden": true
   },
   "source": [
    "### Method 4 *\n",
    "Approach:\n",
    "* Reverse entire array\n",
    "* Reverse the first k elements of the array\n",
    "\n",
    "Time complexity: O(N)\n",
    "\n",
    "Space complexity: O(1)"
   ]
  },
  {
   "cell_type": "code",
   "execution_count": null,
   "metadata": {
    "hidden": true
   },
   "outputs": [],
   "source": [
    "class Solution:\n",
    "    def reverse(self, nums: list, start: int, end: int) -> None:\n",
    "        while start < end:\n",
    "            nums[start], nums[end] = nums[end], nums[start]\n",
    "            start, end = start + 1, end - 1\n",
    "                \n",
    "    def rotate(self, nums: List[int], k: int) -> None:\n",
    "        n = len(nums)\n",
    "        k %= n\n",
    "\n",
    "        self.reverse(nums, 0, n - 1)\n",
    "        self.reverse(nums, 0, k - 1)\n",
    "        self.reverse(nums, k, n - 1)"
   ]
  },
  {
   "cell_type": "markdown",
   "metadata": {},
   "source": [
    "## Leetcode 217"
   ]
  },
  {
   "cell_type": "markdown",
   "metadata": {},
   "source": [
    "Problem: Return True if array contains a duplicate. Return False if array has all unique values.\n",
    "\n",
    "Data: Array of integers\n",
    "\n",
    "Output: Boolean"
   ]
  },
  {
   "cell_type": "markdown",
   "metadata": {},
   "source": [
    "### Method one\n",
    "\n",
    "Approach:\n",
    "* Remove duplicate elements\n",
    "* If len(final) == len(initial), return False\n",
    "\n",
    "Expected output:\n",
    "* There is a duplicate value, so function should return True"
   ]
  },
  {
   "cell_type": "code",
   "execution_count": null,
   "metadata": {},
   "outputs": [],
   "source": [
    "def containsDuplicate(nums):\n",
    "    \"\"\"\n",
    "    :type nums: List[int]\n",
    "    :rtype: bool\n",
    "    \"\"\"\n",
    "    sort_nums = sorted(nums)\n",
    "    for i in reversed(range(1,len(nums))):\n",
    "        if sort_nums[i] == sort_nums[i-1]:\n",
    "            sort_nums.pop(i)\n",
    "    if len(nums) == len(sort_nums):\n",
    "        return (False)\n",
    "    else:\n",
    "        return(True)"
   ]
  },
  {
   "cell_type": "code",
   "execution_count": null,
   "metadata": {},
   "outputs": [],
   "source": [
    "nums = [1,2,3,1]\n",
    "containsDuplicate(nums)"
   ]
  },
  {
   "cell_type": "markdown",
   "metadata": {},
   "source": [
    "### Method two\n",
    "\n",
    "Approach:\n",
    "* Use set to find unique values\n",
    "* Return True if len(nums) != len(unique values)\n",
    "\n",
    "Expected output:\n",
    "* There is a duplicate value, so function should return True"
   ]
  },
  {
   "cell_type": "code",
   "execution_count": null,
   "metadata": {},
   "outputs": [],
   "source": [
    "def containsDuplicate(nums):\n",
    "    \"\"\"\n",
    "    :type nums: List[int]\n",
    "    :rtype: bool\n",
    "    \"\"\"\n",
    "    return len(nums) != len(set(nums))"
   ]
  },
  {
   "cell_type": "markdown",
   "metadata": {},
   "source": [
    "## Leetcode 350\n",
    "\n",
    "Problem: Given two arrays, write a function to compute their intersection.\n",
    "\n",
    "Input: Two List of integers\n",
    "\n",
    "Output: List of integers"
   ]
  },
  {
   "cell_type": "code",
   "execution_count": null,
   "metadata": {
    "ExecuteTime": {
     "end_time": "2020-07-06T22:33:03.413983Z",
     "start_time": "2020-07-06T22:33:03.408279Z"
    }
   },
   "outputs": [],
   "source": [
    "def intersect(nums1, nums2):\n",
    "    \"\"\"\n",
    "    :type nums1: List[int]\n",
    "    :type nums2: List[int]\n",
    "    :rtype: List[int]\n",
    "    \"\"\"\n",
    "    # Sort lists\n",
    "    nums1 = sorted(nums1)\n",
    "    nums2 = sorted(nums2)\n",
    "\n",
    "    # Order by list size\n",
    "    if len(nums2) < len(nums1):\n",
    "        nums1, nums2 = nums2, nums1\n",
    "    intersection = []\n",
    "    i = j = 0\n",
    "\n",
    "    # Compute intersection\n",
    "    while i < len(nums1) and j < len(nums2):\n",
    "        if nums1[i] == nums2[j]:\n",
    "            intersection.append(nums1[i])\n",
    "            i += 1\n",
    "            j += 1\n",
    "        elif nums1[i] < nums2[j]:\n",
    "                i += 1\n",
    "        else: # nums1[i] > nums2[j]\n",
    "                j += 1\n",
    "\n",
    "    return(intersection)"
   ]
  },
  {
   "cell_type": "code",
   "execution_count": null,
   "metadata": {
    "ExecuteTime": {
     "end_time": "2020-07-06T22:33:09.082351Z",
     "start_time": "2020-07-06T22:33:09.077682Z"
    }
   },
   "outputs": [],
   "source": [
    "nums1 = [1,2,2,1]\n",
    "nums2 = [2,2]\n",
    "intersect(nums1, nums2)"
   ]
  },
  {
   "cell_type": "code",
   "execution_count": null,
   "metadata": {
    "ExecuteTime": {
     "end_time": "2020-07-06T22:33:26.745360Z",
     "start_time": "2020-07-06T22:33:26.740510Z"
    }
   },
   "outputs": [],
   "source": [
    "nums1 = [4,9,5]\n",
    "nums2 = [9,4,9,8,4]\n",
    "intersect(nums1, nums2)"
   ]
  },
  {
   "cell_type": "markdown",
   "metadata": {},
   "source": [
    "## Leetcode 1207"
   ]
  },
  {
   "cell_type": "markdown",
   "metadata": {},
   "source": [
    "Problem: Given an array of integers arr, write a function that returns true if and only if the number of occurrences of each value in the array is unique.\n",
    "\n",
    "Data: Array of integers\n",
    "\n",
    "Output: Boolean"
   ]
  },
  {
   "cell_type": "markdown",
   "metadata": {},
   "source": [
    "### Method one\n",
    "\n",
    "Approach:\n",
    "* Create dictionary of counts for each unique value\n",
    "* Sort values\n",
    "* Remove duplicate elements\n",
    "* If lengths of arrays are the same (i.e., all unique values had a unique number of occurances), return True\n",
    "\n",
    "Time Complexity: Total computation time of `unique_num`: 1 + (N\\*1) + N\\*log(N) + (N\\*1\\*k) + 2\\*N\n",
    "* create empty list = constant time\n",
    "* for loop using set() = N\n",
    "* append() = constant time\n",
    "    * Total computational time of for loop = N*1 = N\n",
    "* sorted() = N*log(N)\n",
    "* for loop using len() = N\n",
    "* for loop using conditional statement = constant time\n",
    "* pop() = k\n",
    "    * Total computational time of for loop = \"k times N\"\n",
    "* len() = constant time\n",
    "\n",
    "The biggest time constraint is the `sorted` function (NlogN). \n",
    "\n",
    "How would you make this function more efficient?\n",
    "* To improve the function, we can improve sorting using `set` or using `dict` approach instead of `sorted`."
   ]
  },
  {
   "cell_type": "code",
   "execution_count": null,
   "metadata": {},
   "outputs": [],
   "source": [
    "def unique_num(nums):\n",
    "    counts=[] # constant time (= 1)\n",
    "    for i in set(nums): # N, total time for this loop is N * 1\n",
    "        counts.append(nums.count(i)) # constant time (= 1)\n",
    "    counts_sorted = sorted(counts) # N log N\n",
    "    for i in range(len(counts)-1): # N\n",
    "        if counts_sorted[i] == counts_sorted[i+1]: # constant time\n",
    "            counts_sorted.pop(i) # k, depends on where the element are \"popped\" . If it's the last element, then it will be N\n",
    "    return(len(counts)==len(counts_sorted)) # 2*constant time"
   ]
  },
  {
   "cell_type": "code",
   "execution_count": null,
   "metadata": {},
   "outputs": [],
   "source": [
    "arr = [1,2,2,1,1,3]\n",
    "unique_num(arr)"
   ]
  },
  {
   "cell_type": "code",
   "execution_count": null,
   "metadata": {},
   "outputs": [],
   "source": [
    "arr = [1,2]\n",
    "unique_num(arr)"
   ]
  },
  {
   "cell_type": "code",
   "execution_count": null,
   "metadata": {},
   "outputs": [],
   "source": [
    "arr = [-3,0,1,-3,1,1,1,-3,10,0]\n",
    "unique_num(arr)"
   ]
  },
  {
   "cell_type": "code",
   "execution_count": null,
   "metadata": {},
   "outputs": [],
   "source": []
  }
 ],
 "metadata": {
  "kernelspec": {
   "display_name": "Python 3",
   "language": "python",
   "name": "python3"
  },
  "language_info": {
   "codemirror_mode": {
    "name": "ipython",
    "version": 3
   },
   "file_extension": ".py",
   "mimetype": "text/x-python",
   "name": "python",
   "nbconvert_exporter": "python",
   "pygments_lexer": "ipython3",
   "version": "3.7.6"
  },
  "toc": {
   "base_numbering": 1,
   "nav_menu": {},
   "number_sections": true,
   "sideBar": true,
   "skip_h1_title": false,
   "title_cell": "Table of Contents",
   "title_sidebar": "Contents",
   "toc_cell": false,
   "toc_position": {},
   "toc_section_display": true,
   "toc_window_display": false
  }
 },
 "nbformat": 4,
 "nbformat_minor": 4
}
