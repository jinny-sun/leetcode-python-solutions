{
 "cells": [
  {
   "cell_type": "markdown",
   "metadata": {},
   "source": [
    "# Easy Leetcode Practice Questions"
   ]
  },
  {
   "cell_type": "markdown",
   "metadata": {},
   "source": [
    "## Leetcode 26\n",
    "\n",
    "Problem: Return length of unique values. Don't have to remove duplicate elements from nums.\n",
    "Data: List of integers\n",
    "Output: Number of unique values (integer)\n",
    "\n",
    "Outline process:\n",
    "* If a number (i) if the same as previous number (i-1), remove it. \n",
    "* Return the length of the list, which gives the number of unique values\n",
    "\n",
    "Approach:\n",
    "* One duplicate number, so final length should be len(nums)-1 = 2"
   ]
  },
  {
   "cell_type": "code",
   "execution_count": 1,
   "metadata": {},
   "outputs": [],
   "source": [
    "def removeDuplicates(nums):\n",
    "    \"\"\"\n",
    "    :type nums: List[int]\n",
    "    :rtype: int\n",
    "    \"\"\"\n",
    "    if len(nums) == 0:\n",
    "        return 0\n",
    "    for i in reversed(range(1,len(nums))):\n",
    "        if nums[i] == nums[i-1]:\n",
    "            nums.pop(i)\n",
    "    return len(nums)"
   ]
  },
  {
   "cell_type": "code",
   "execution_count": 2,
   "metadata": {
    "scrolled": true
   },
   "outputs": [
    {
     "data": {
      "text/plain": [
       "2"
      ]
     },
     "execution_count": 2,
     "metadata": {},
     "output_type": "execute_result"
    }
   ],
   "source": [
    "nums = [1, 1, 2]\n",
    "removeDuplicates(nums)"
   ]
  },
  {
   "cell_type": "markdown",
   "metadata": {},
   "source": [
    "## Leetcode 122\n",
    "\n",
    "Problem: Calculate max profit given price per day. Can only purchase and sell one stock at a time.\n",
    "\n",
    "Data: List of Integers\n",
    "\n",
    "Output: Maximum profit (integer)\n",
    "\n",
    "\n",
    "Approach:\n",
    "* Calculate differences between stock prices each day. If prices increase, add the difference between the two prices.\n",
    "* Return the summed profits\n",
    "\n",
    "Expected output: 7\n",
    "* 1-7 = no profit\n",
    "* 5-1 = 4\n",
    "* 3-5 = no profit\n",
    "* 6-3 = 3\n",
    "* 4-6 = no profit"
   ]
  },
  {
   "cell_type": "code",
   "execution_count": 3,
   "metadata": {},
   "outputs": [],
   "source": [
    "def maxProfit(prices):\n",
    "    \"\"\"\n",
    "    :type prices: List[int]\n",
    "    :rtype: int\n",
    "    \"\"\"\n",
    "    maxprofit = 0\n",
    "    for i in range(1,len(prices)):\n",
    "        if prices[i] > prices [i-1]:\n",
    "            maxprofit += prices[i] - prices[i-1]\n",
    "    return(maxprofit)"
   ]
  },
  {
   "cell_type": "code",
   "execution_count": 4,
   "metadata": {},
   "outputs": [
    {
     "data": {
      "text/plain": [
       "7"
      ]
     },
     "execution_count": 4,
     "metadata": {},
     "output_type": "execute_result"
    }
   ],
   "source": [
    "prices = [7,1,5,3,6,4]\n",
    "maxProfit(prices)"
   ]
  },
  {
   "cell_type": "markdown",
   "metadata": {},
   "source": [
    "## Leetcode 189\n",
    "\n",
    "Problem: Rotate an array by k steps. For example, [1,2,3,4] rotated by k=1 is [4,1,2,3]\n",
    "\n",
    "Data: List of integers\n",
    "\n",
    "Output: List of integers\n",
    "\n",
    "Approach: \n",
    "* Rotate list by 1\n",
    "* Repeat this k times\n",
    "\n",
    "Expected Output: \n",
    "* Original list [1,2,3,4,5,6,7]\n",
    "* rotate once: [7,1,2,3,4,5,6]\n",
    "* rotate twice: [6,7,1,2,3,4,5]\n",
    "* rotate three times: [5,6,7,1,2,3,4]"
   ]
  },
  {
   "cell_type": "code",
   "execution_count": 5,
   "metadata": {},
   "outputs": [],
   "source": [
    "def rotate(nums, k):\n",
    "    \"\"\"\n",
    "    :type nums: List[int]\n",
    "    :type k: int\n",
    "    :rtype: None Do not return anything, modify nums in-place instead.\n",
    "    \"\"\"\n",
    "    for i in range(k):\n",
    "        previous = nums[-1]\n",
    "        for j in range(len(nums)):\n",
    "            nums[j], previous = previous, nums[j]\n",
    "    return(nums)"
   ]
  },
  {
   "cell_type": "code",
   "execution_count": 6,
   "metadata": {},
   "outputs": [
    {
     "data": {
      "text/plain": [
       "[5, 6, 7, 1, 2, 3, 4]"
      ]
     },
     "execution_count": 6,
     "metadata": {},
     "output_type": "execute_result"
    }
   ],
   "source": [
    "nums = [1,2,3,4,5,6,7]\n",
    "k = 3\n",
    "rotate(nums,k)"
   ]
  },
  {
   "cell_type": "markdown",
   "metadata": {},
   "source": [
    "## Leetcode 217\n",
    "\n",
    "Problem: Return True if array contains a duplicate. Return False if array has all unique values.\n",
    "\n",
    "Data: Array of integers\n",
    "\n",
    "Output: Boolean\n",
    "\n",
    "Approach:\n",
    "* Remove duplicate elements\n",
    "* If len(final) == len(initial), return False\n",
    "\n",
    "Expected output:\n",
    "* There is a duplicate value, so function should return True"
   ]
  },
  {
   "cell_type": "code",
   "execution_count": 7,
   "metadata": {},
   "outputs": [],
   "source": [
    "def containsDuplicate(nums):\n",
    "    \"\"\"\n",
    "    :type nums: List[int]\n",
    "    :rtype: bool\n",
    "    \"\"\"\n",
    "    sort_nums = sorted(nums)\n",
    "    for i in reversed(range(1,len(nums))):\n",
    "        if sort_nums[i] == sort_nums[i-1]:\n",
    "            sort_nums.pop(i)\n",
    "    if len(nums) == len(sort_nums):\n",
    "        return (False)\n",
    "    else:\n",
    "        return(True)"
   ]
  },
  {
   "cell_type": "code",
   "execution_count": 8,
   "metadata": {},
   "outputs": [
    {
     "data": {
      "text/plain": [
       "True"
      ]
     },
     "execution_count": 8,
     "metadata": {},
     "output_type": "execute_result"
    }
   ],
   "source": [
    "nums = [1,2,3,1]\n",
    "containsDuplicate(nums)"
   ]
  },
  {
   "cell_type": "code",
   "execution_count": null,
   "metadata": {},
   "outputs": [],
   "source": [
    "# Method 2: using hash table (dictionary)\n"
   ]
  },
  {
   "cell_type": "code",
   "execution_count": null,
   "metadata": {},
   "outputs": [],
   "source": []
  },
  {
   "cell_type": "code",
   "execution_count": null,
   "metadata": {},
   "outputs": [],
   "source": []
  }
 ],
 "metadata": {
  "kernelspec": {
   "display_name": "Python 3",
   "language": "python",
   "name": "python3"
  },
  "language_info": {
   "codemirror_mode": {
    "name": "ipython",
    "version": 3
   },
   "file_extension": ".py",
   "mimetype": "text/x-python",
   "name": "python",
   "nbconvert_exporter": "python",
   "pygments_lexer": "ipython3",
   "version": "3.7.6"
  },
  "toc": {
   "base_numbering": 1,
   "nav_menu": {},
   "number_sections": true,
   "sideBar": true,
   "skip_h1_title": false,
   "title_cell": "Table of Contents",
   "title_sidebar": "Contents",
   "toc_cell": false,
   "toc_position": {},
   "toc_section_display": true,
   "toc_window_display": false
  }
 },
 "nbformat": 4,
 "nbformat_minor": 4
}
