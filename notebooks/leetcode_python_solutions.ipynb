{
 "cells": [
  {
   "cell_type": "markdown",
   "metadata": {},
   "source": [
    "# Easy Leetcode Practice Questions"
   ]
  },
  {
   "cell_type": "markdown",
   "metadata": {},
   "source": [
    "## Leetcode 1\n",
    "\n",
    "Variation of Two Sum problem\n",
    "<br>\n",
    "Problem: Return True if two elements in the array sum to val. Otherwise return False"
   ]
  },
  {
   "cell_type": "markdown",
   "metadata": {},
   "source": [
    "### Method one\n",
    "Approach: iterate through list and add to every other element in the list\n",
    "  \n",
    "Time complexity: O(N^2) nested for loop\n",
    "\n",
    "Space complexity: O(1)\n"
   ]
  },
  {
   "cell_type": "code",
   "execution_count": null,
   "metadata": {},
   "outputs": [],
   "source": [
    "def two_sum(arr, val):\n",
    "  \"\"\" \n",
    "  Return True if there are two elements in the array that sum to val.\n",
    "  Otherwise return False\n",
    "  \n",
    "  Brute force method: iterate through list and add to every other element in the list\n",
    "  \n",
    "  Time complexity: O(N^2) nested for loop\n",
    "  Space complexity: O(1)\n",
    "  \"\"\"\n",
    "\n",
    "  for idx1, n1 in enumerate(arr):\n",
    "    for n2 in arr[idx1+1:]:\n",
    "        if n1 + n2 == val:\n",
    "            return True\n",
    "  return False\n",
    "        "
   ]
  },
  {
   "cell_type": "markdown",
   "metadata": {},
   "source": [
    "### Method two\n",
    "Approach: Create lookup table using set. Need to delete the current num from set\n",
    "\n",
    "Time complexity: O(N) for loop\n",
    "\n",
    "Space complexity: O(N)"
   ]
  },
  {
   "cell_type": "code",
   "execution_count": null,
   "metadata": {},
   "outputs": [],
   "source": [
    "def two_sum(arr, val):\n",
    "  \"\"\" \n",
    "  Return True if there are two elements in the array that sum to val.\n",
    "  Otherwise return False\n",
    "\n",
    "  Using set, need to delete the current num from set\n",
    "  \n",
    "  Time complexity: O(N) for loop\n",
    "  Space complexity: O(N)\n",
    "  \"\"\"\n",
    "    unique_val = set(arr)\n",
    "    for num in arr:\n",
    "    val2 = val - num\n",
    "    if val2 in (unique_val - {num}):\n",
    "        return True\n",
    "    return False"
   ]
  },
  {
   "cell_type": "markdown",
   "metadata": {},
   "source": [
    "### Method three\n",
    "Approach: Create lookup table using dictionary.\n",
    "\n",
    "Time complexity: O(N) for loop\n",
    "\n",
    "Space complexity: O(N)"
   ]
  },
  {
   "cell_type": "code",
   "execution_count": 6,
   "metadata": {
    "ExecuteTime": {
     "end_time": "2020-07-09T15:48:16.818800Z",
     "start_time": "2020-07-09T15:48:16.814915Z"
    }
   },
   "outputs": [],
   "source": [
    "def two_sum(arr, val):\n",
    "  \"\"\" \n",
    "  Return True if there are two elements in the array that sum to val.\n",
    "  Otherwise return False\n",
    "\n",
    "  Using dict\n",
    "  \n",
    "  Time complexity: O(N) for loop\n",
    "  Space complexity: O(N)\n",
    "  \"\"\"\n",
    "  dictionary = {}\n",
    "  for idx, el in enumerate(arr):\n",
    "    val2 = val - el\n",
    "    if val2 in dictionary:\n",
    "        return True\n",
    "    else:\n",
    "        dictionary[el] = idx\n",
    "  return False"
   ]
  },
  {
   "cell_type": "code",
   "execution_count": 7,
   "metadata": {
    "ExecuteTime": {
     "end_time": "2020-07-09T15:48:17.245699Z",
     "start_time": "2020-07-09T15:48:17.241550Z"
    }
   },
   "outputs": [
    {
     "data": {
      "text/plain": [
       "True"
      ]
     },
     "execution_count": 7,
     "metadata": {},
     "output_type": "execute_result"
    }
   ],
   "source": [
    "arr = [1, 4, 6, 9, 2, 11]\n",
    "val = 13\n",
    "two_sum(arr,val)"
   ]
  },
  {
   "cell_type": "code",
   "execution_count": 8,
   "metadata": {
    "ExecuteTime": {
     "end_time": "2020-07-09T15:48:17.855135Z",
     "start_time": "2020-07-09T15:48:17.850944Z"
    }
   },
   "outputs": [
    {
     "data": {
      "text/plain": [
       "False"
      ]
     },
     "execution_count": 8,
     "metadata": {},
     "output_type": "execute_result"
    }
   ],
   "source": [
    "arr = [1, 4, 6, 9, 2, 11]\n",
    "val = 18\n",
    "two_sum(arr,val)"
   ]
  },
  {
   "cell_type": "markdown",
   "metadata": {},
   "source": [
    "## Leetcode 7"
   ]
  },
  {
   "cell_type": "markdown",
   "metadata": {},
   "source": [
    "Problem: Given a 32-bit signed integer, reverse digits of an integer.\n",
    "\n",
    "Input: integer\n",
    "Output: integer"
   ]
  },
  {
   "cell_type": "markdown",
   "metadata": {
    "ExecuteTime": {
     "end_time": "2020-07-07T17:56:53.660615Z",
     "start_time": "2020-07-07T17:56:53.656541Z"
    }
   },
   "source": [
    "### Method one\n",
    "Approach: \n",
    "* Convert numeric to string, reverse string, then convert back to numeric\n",
    "\n",
    "Time complexity: O(N)\n",
    "\n",
    "Space complexity: O(1)\n"
   ]
  },
  {
   "cell_type": "code",
   "execution_count": 32,
   "metadata": {
    "ExecuteTime": {
     "end_time": "2020-07-07T18:11:39.189656Z",
     "start_time": "2020-07-07T18:11:39.184867Z"
    }
   },
   "outputs": [],
   "source": [
    "def reverse(x):\n",
    "    \"\"\"\n",
    "    :type x: int\n",
    "    :rtype: int\n",
    "    \"\"\"\n",
    "    if x == 0:\n",
    "        return(0)\n",
    "    elif x > 0:\n",
    "        x = str(x)\n",
    "        x = x[::-1]\n",
    "        return(int(x) if int(x) < pow(2,31) else 0)\n",
    "    else:\n",
    "        x = str(x)\n",
    "        x = '-' + x[:0:-1]\n",
    "        return(int(x) if int(x) > -pow(2,31) else 0)"
   ]
  },
  {
   "cell_type": "code",
   "execution_count": 33,
   "metadata": {
    "ExecuteTime": {
     "end_time": "2020-07-07T18:11:44.990968Z",
     "start_time": "2020-07-07T18:11:44.987361Z"
    }
   },
   "outputs": [
    {
     "data": {
      "text/plain": [
       "321"
      ]
     },
     "execution_count": 33,
     "metadata": {},
     "output_type": "execute_result"
    }
   ],
   "source": [
    "reverse(123)"
   ]
  },
  {
   "cell_type": "code",
   "execution_count": 34,
   "metadata": {
    "ExecuteTime": {
     "end_time": "2020-07-07T18:11:53.968029Z",
     "start_time": "2020-07-07T18:11:53.964401Z"
    }
   },
   "outputs": [
    {
     "data": {
      "text/plain": [
       "-123"
      ]
     },
     "execution_count": 34,
     "metadata": {},
     "output_type": "execute_result"
    }
   ],
   "source": [
    "reverse(-123)"
   ]
  },
  {
   "cell_type": "markdown",
   "metadata": {},
   "source": [
    "## Leetcode 8"
   ]
  },
  {
   "cell_type": "markdown",
   "metadata": {},
   "source": [
    "Problem: Convert string to integer\n",
    "\n",
    "Input: string\n",
    "\n",
    "Output: Integer\n",
    "\n",
    "Edge cases: If num > 2<sup>32</sup>, return 2<sup>31</sup>"
   ]
  },
  {
   "cell_type": "markdown",
   "metadata": {},
   "source": [
    "### Method One\n",
    "\n",
    "Approach: no regex"
   ]
  },
  {
   "cell_type": "code",
   "execution_count": null,
   "metadata": {},
   "outputs": [],
   "source": [
    "def myAtoi(str):\n",
    "    \"\"\"\n",
    "    :type str: str\n",
    "    :rtype: int\n",
    "    \"\"\""
   ]
  },
  {
   "cell_type": "code",
   "execution_count": null,
   "metadata": {},
   "outputs": [],
   "source": [
    "s = \"42\"\n",
    "myAtoi(s)"
   ]
  },
  {
   "cell_type": "code",
   "execution_count": 11,
   "metadata": {
    "ExecuteTime": {
     "end_time": "2020-07-15T06:03:10.155633Z",
     "start_time": "2020-07-15T06:03:10.151009Z"
    }
   },
   "outputs": [
    {
     "data": {
      "text/plain": [
       "{'2', '4'}"
      ]
     },
     "execution_count": 11,
     "metadata": {},
     "output_type": "execute_result"
    }
   ],
   "source": [
    "s = \"-42\"\n",
    "strip = s.strip()\n",
    "{c for c in strip if c.isnumeric()}"
   ]
  },
  {
   "cell_type": "code",
   "execution_count": null,
   "metadata": {},
   "outputs": [],
   "source": [
    "s = \"-42\"\n",
    "myAtoi(s)"
   ]
  },
  {
   "cell_type": "code",
   "execution_count": null,
   "metadata": {},
   "outputs": [],
   "source": [
    "s = \"4193 with words\"\n",
    "myAtoi(s)"
   ]
  },
  {
   "cell_type": "code",
   "execution_count": null,
   "metadata": {},
   "outputs": [],
   "source": [
    "s = \"words and 987\"\n",
    "myAtoi(s)"
   ]
  },
  {
   "cell_type": "code",
   "execution_count": null,
   "metadata": {},
   "outputs": [],
   "source": [
    "s = \"-91283472332\"\n",
    "myAtoi(s)"
   ]
  },
  {
   "cell_type": "markdown",
   "metadata": {},
   "source": [
    "## Leetcode 13"
   ]
  },
  {
   "cell_type": "markdown",
   "metadata": {},
   "source": [
    "Problem: Convert Roman numerals to integer\n",
    "\n",
    "Input: String\n",
    "Output: Integer"
   ]
  },
  {
   "cell_type": "markdown",
   "metadata": {},
   "source": [
    "### Method one\n",
    "\n",
    "Approach:\n",
    "* Convert string character to integer using dictionary\n",
    "* Add integers if larger numeral followed by smaller numerals: VIII would be 10 - 2 = 8\n",
    "* Subtract integers of smaller numeral followed by larger numeral: IV would be 5 - 1 = 4\n",
    "\n",
    "Time complexity: O(N)\n",
    "* for loop\n",
    "\n",
    "Space complexity: O(1)"
   ]
  },
  {
   "cell_type": "code",
   "execution_count": null,
   "metadata": {
    "ExecuteTime": {
     "end_time": "2020-07-07T17:50:42.841865Z",
     "start_time": "2020-07-07T17:50:42.836784Z"
    }
   },
   "outputs": [],
   "source": [
    "def romanToInt(s):\n",
    "    \"\"\"\n",
    "    :type s: str\n",
    "    :rtype: int\n",
    "    \"\"\"\n",
    "    roman_dict = {'I':1, 'V':5, 'X':10, \n",
    "                  'L':50, 'C':100, 'D':500, 'M':1000}\n",
    "    prev, total = 0, 0\n",
    "\n",
    "    for c in s:\n",
    "        curr = roman_dict[c]\n",
    "        if prev < curr:\n",
    "            total -= prev\n",
    "            total += curr - prev\n",
    "        else:\n",
    "            total += curr\n",
    "        prev = curr\n",
    "    return(total)"
   ]
  },
  {
   "cell_type": "code",
   "execution_count": null,
   "metadata": {
    "ExecuteTime": {
     "end_time": "2020-07-07T17:51:01.605327Z",
     "start_time": "2020-07-07T17:51:01.601208Z"
    }
   },
   "outputs": [],
   "source": [
    "romanToInt('III')"
   ]
  },
  {
   "cell_type": "code",
   "execution_count": null,
   "metadata": {
    "ExecuteTime": {
     "end_time": "2020-07-07T17:51:17.176148Z",
     "start_time": "2020-07-07T17:51:17.172332Z"
    }
   },
   "outputs": [],
   "source": [
    "romanToInt('IV')"
   ]
  },
  {
   "cell_type": "code",
   "execution_count": null,
   "metadata": {
    "ExecuteTime": {
     "end_time": "2020-07-07T17:50:47.544273Z",
     "start_time": "2020-07-07T17:50:47.540008Z"
    }
   },
   "outputs": [],
   "source": [
    "romanToInt('LVIII')"
   ]
  },
  {
   "cell_type": "code",
   "execution_count": null,
   "metadata": {
    "ExecuteTime": {
     "end_time": "2020-07-07T17:51:46.786403Z",
     "start_time": "2020-07-07T17:51:46.782476Z"
    }
   },
   "outputs": [],
   "source": [
    "romanToInt('MCMXCIV')"
   ]
  },
  {
   "cell_type": "markdown",
   "metadata": {},
   "source": [
    "## Leetcode 21"
   ]
  },
  {
   "cell_type": "markdown",
   "metadata": {},
   "source": [
    "Problem: Merge two sorted linked lists and return it as a new sorted list. The new list should be made by splicing together the nodes of the first two lists.\n",
    "\n",
    "Example:\n",
    "\n",
    "Input: \n",
    "* List one: 1->2->4\n",
    "* List two: 1->3->4\n",
    "\n",
    "\n",
    "Output: 1->1->2->3->4->4"
   ]
  },
  {
   "cell_type": "code",
   "execution_count": 38,
   "metadata": {
    "ExecuteTime": {
     "end_time": "2020-07-15T19:12:55.070103Z",
     "start_time": "2020-07-15T19:12:55.065719Z"
    }
   },
   "outputs": [],
   "source": [
    "# Definition for singly-linked list.\n",
    "# class Node(object):\n",
    "#     def __init__(self, val=0, next=None):\n",
    "#         self.val = val\n",
    "#         self.next = next\n",
    "\n",
    "# l1 = Node(1)\n",
    "# l1b = Node(2)\n",
    "# l1c = Node(4)\n",
    "# l1.next = l1b\n",
    "# l1b.next = l1c\n",
    "\n",
    "# l2 = Node(1)\n",
    "# l2b = Node(3)\n",
    "# l2c = Node(4)\n",
    "# l2.next = l1b\n",
    "# l2b.next = l1c"
   ]
  },
  {
   "cell_type": "code",
   "execution_count": null,
   "metadata": {},
   "outputs": [],
   "source": [
    "# Definition for singly-linked list.\n",
    "# class Node(object):\n",
    "#     def __init__(self, val=0, next=None):\n",
    "#         self.val = val\n",
    "#         self.next = next\n",
    "\n",
    "# # Create a Linked List from array\n",
    "# class LinkedList(object):\n",
    "#     def __init__(self, sequence):\n",
    "#         self.head = Node(sequence[0])\n",
    "#         current = self.head\n",
    "#         for item in sequence[1:]:\n",
    "#             current.next = Node(item)\n",
    "#             current = current.next\n",
    "            \n",
    "# l1 = [1,2,4]\n",
    "# l2 = [1,3,4]\n"
   ]
  },
  {
   "cell_type": "markdown",
   "metadata": {},
   "source": [
    "### Method one"
   ]
  },
  {
   "cell_type": "markdown",
   "metadata": {},
   "source": [
    "Approach:\n",
    "* Keep track of output answer separate from the current node being iterated by while loop.\n",
    "* Select list that has node with lesser value as the next value, then point that list to the next node\n",
    "* Iterate through nodes\n",
    "\n",
    "Time Complexity: O(N) - while loop\n",
    "\n",
    "Space Complexity: O(N)"
   ]
  },
  {
   "cell_type": "code",
   "execution_count": 46,
   "metadata": {
    "ExecuteTime": {
     "end_time": "2020-07-16T00:04:07.542081Z",
     "start_time": "2020-07-16T00:04:07.531509Z"
    }
   },
   "outputs": [],
   "source": [
    "class ListNode(object):\n",
    "    def __init__(self, val=0, next=None):\n",
    "        self.val = val\n",
    "        self.next = next\n",
    "\n",
    "def mergeTwoLists(l1: ListNode, l2: ListNode):\n",
    "    \"\"\"\n",
    "    :type l1: ListNode\n",
    "    :type l2: ListNode\n",
    "    :rtype: ListNode\n",
    "    \"\"\"\n",
    "    current_node = ListNode(0)\n",
    "    answer = current_node\n",
    "    while l1 and l2: # while linked lists are not null\n",
    "        if l1.val <= l2.val:\n",
    "            current_node.next = l1\n",
    "            l1 = l1.next\n",
    "        else:\n",
    "            current_node.next = l2\n",
    "            l2 = l2.next\n",
    "        current_node = current_node.next\n",
    "    # Point to whichever node is not empty to get the last element of merged linked list\n",
    "    current_node.next = l1 or l2 \n",
    "    return answer.next # head of answer = 0 in the first iteration from creating the node"
   ]
  },
  {
   "cell_type": "code",
   "execution_count": null,
   "metadata": {
    "ExecuteTime": {
     "end_time": "2020-07-16T00:04:26.079179Z",
     "start_time": "2020-07-16T00:04:26.069303Z"
    }
   },
   "outputs": [],
   "source": [
    "l1 = [1,2,4]\n",
    "l2 = [1,3,4]\n",
    "\n",
    "mergeTwoLists(l1,l2)"
   ]
  },
  {
   "cell_type": "markdown",
   "metadata": {},
   "source": [
    "### Method two"
   ]
  },
  {
   "cell_type": "markdown",
   "metadata": {},
   "source": [
    "Approach:\n",
    "* Recursion to find next node\n",
    "\n",
    "Time complexity: \n",
    "\n",
    "Space complexity:\n"
   ]
  },
  {
   "cell_type": "code",
   "execution_count": null,
   "metadata": {},
   "outputs": [],
   "source": [
    "def mergeTwoLists(l1, l2):\n",
    "    if not l1:\n",
    "        return l2\n",
    "    if not l2:\n",
    "        return l1\n",
    "    if l1.val > l2.val:\n",
    "        answer = ListNode(l2.val)\n",
    "        answer.next = self.mergeTwoLists(l1, l2.next)\n",
    "    else:\n",
    "        answer = ListNode(l1.val)\n",
    "        answer.next = self.mergeTwoLists(l1.next, l2)\n",
    "    return answer"
   ]
  },
  {
   "cell_type": "markdown",
   "metadata": {},
   "source": [
    "## Leetcode 26"
   ]
  },
  {
   "cell_type": "markdown",
   "metadata": {},
   "source": [
    "Problem: Return length of unique values. Don't have to remove duplicate elements from nums.\n",
    "\n",
    "Data: List of integers\n",
    "\n",
    "Output: Number of unique values (integer)"
   ]
  },
  {
   "cell_type": "markdown",
   "metadata": {},
   "source": [
    "### Method one\n",
    "Approach:\n",
    "* If a number (i) if the same as previous number (i-1), remove it. \n",
    "* Return the length of the list, which gives the number of unique values\n",
    "\n",
    "Expected output:\n",
    "* One duplicate number, so final length should be len(nums)-1 = 2\n",
    "\n",
    "Time complexity:\n",
    "* O(k*N) due to pop duplicate at k location and for loop of length N.\n",
    "\n",
    "Space complexity: \n",
    "* O(1)"
   ]
  },
  {
   "cell_type": "code",
   "execution_count": null,
   "metadata": {},
   "outputs": [],
   "source": [
    "def removeDuplicates(nums):\n",
    "    \"\"\"\n",
    "    :type nums: List[int]\n",
    "    :rtype: int\n",
    "    \"\"\"\n",
    "    if len(nums) == 0:\n",
    "        return 0\n",
    "    for i in reversed(range(1,len(nums))):\n",
    "        if nums[i] == nums[i-1]:\n",
    "            nums.pop(i)\n",
    "    return len(nums)"
   ]
  },
  {
   "cell_type": "code",
   "execution_count": null,
   "metadata": {
    "scrolled": true
   },
   "outputs": [],
   "source": [
    "nums = [1, 1, 2]\n",
    "removeDuplicates(nums)"
   ]
  },
  {
   "cell_type": "markdown",
   "metadata": {},
   "source": [
    "### Method two\n",
    "Approach:\n",
    "* Find unique values using `set`, which returns a dictionary of unique values.\n",
    "* Convert dictionary into string to get list of unique values\n",
    "* Return length of list to get number of unique values\n",
    "\n",
    "Expected output:\n",
    "* One duplicate number, so final length should be len(nums)-1 = 2\n",
    "\n",
    "Time complexity:\n",
    "* O(N) for set?\n",
    "\n",
    "Space complexity: \n",
    "* O(1)"
   ]
  },
  {
   "cell_type": "code",
   "execution_count": null,
   "metadata": {},
   "outputs": [],
   "source": [
    "def removeDuplicates(nums):\n",
    "    \"\"\"\n",
    "    :type nums: List[int]\n",
    "    :rtype: int\n",
    "    \"\"\"\n",
    "    nums[:] = list(set(nums))\n",
    "    return len(nums)\n",
    "\n",
    "nums = [1, 1, 2]\n",
    "removeDuplicates(nums)"
   ]
  },
  {
   "cell_type": "markdown",
   "metadata": {},
   "source": [
    "This method doesn't work for this example however since it returns the list with the negative as the highest value. Need to sort the output array.\n",
    "\n",
    "Time complexity: \n",
    "* O(N<sup>2</sup>logN) for sorted (NlogN) and set (N)?"
   ]
  },
  {
   "cell_type": "code",
   "execution_count": null,
   "metadata": {},
   "outputs": [],
   "source": [
    "def removeDuplicates(nums):\n",
    "    \"\"\"\n",
    "    :type nums: List[int]\n",
    "    :rtype: int\n",
    "    \"\"\"\n",
    "    nums[:] = sorted(list(set(nums)))\n",
    "    return len(nums)\n",
    "\n",
    "nums = [-1,0,0,0,0,3,3]\n",
    "removeDuplicates(nums)"
   ]
  },
  {
   "cell_type": "markdown",
   "metadata": {},
   "source": [
    "## Leetcode 122"
   ]
  },
  {
   "cell_type": "markdown",
   "metadata": {},
   "source": [
    "Problem: Calculate max profit given price per day. Can only purchase and sell one stock at a time.\n",
    "\n",
    "Input: List of Integers\n",
    "\n",
    "Output: Maximum profit (integer)"
   ]
  },
  {
   "cell_type": "markdown",
   "metadata": {},
   "source": [
    "### Method one\n",
    "Approach:\n",
    "* Calculate differences between stock prices each day. If prices increase, add the difference between the two prices.\n",
    "* Return the summed profits\n",
    "\n",
    "Expected output: 7\n",
    "* 1-7 = no profit\n",
    "* 5-1 = 4\n",
    "* 3-5 = no profit\n",
    "* 6-3 = 3\n",
    "* 4-6 = no profit\n",
    "\n",
    "Time complexity: \n",
    "* O(N)\n",
    "\n",
    "Space complexity:\n",
    "* O(1)"
   ]
  },
  {
   "cell_type": "code",
   "execution_count": null,
   "metadata": {},
   "outputs": [],
   "source": [
    "def maxProfit(prices):\n",
    "    \"\"\"\n",
    "    :type prices: List[int]\n",
    "    :rtype: int\n",
    "    \"\"\"\n",
    "    maxprofit = 0\n",
    "    for i in range(1,len(prices)):\n",
    "        if prices[i] > prices [i-1]:\n",
    "            maxprofit += prices[i] - prices[i-1]\n",
    "    return(maxprofit)"
   ]
  },
  {
   "cell_type": "code",
   "execution_count": null,
   "metadata": {},
   "outputs": [],
   "source": [
    "prices = [7,1,5,3,6,4]\n",
    "maxProfit(prices)"
   ]
  },
  {
   "cell_type": "markdown",
   "metadata": {},
   "source": [
    "## Leetcode 125 - Valid Palindrome"
   ]
  },
  {
   "cell_type": "markdown",
   "metadata": {},
   "source": [
    "Problem: Given a string, determine if it is a palindrome, considering only alphanumeric characters and ignoring cases. Empty string counts as a valid palindrome."
   ]
  },
  {
   "cell_type": "markdown",
   "metadata": {},
   "source": [
    "### Method One\n",
    "\n",
    "Approach: \n",
    "1. join characters together if character is alphanumeric\n",
    "2. Compare original string and reversed string\n",
    "\n",
    "Time complexity: O(N) for list comprehension\n",
    "\n",
    "Space complexity: O(N) to join all characters in original string"
   ]
  },
  {
   "cell_type": "code",
   "execution_count": null,
   "metadata": {},
   "outputs": [],
   "source": [
    "def isPalindrome(s):\n",
    "    \"\"\"\n",
    "    :type s: str\n",
    "    :rtype: bool\n",
    "    \"\"\"\n",
    "    s = ('').join([c.lower() for c in s if c.isalnum()])\n",
    "    r = ('').join(reversed(s))\n",
    "    if (s == r):\n",
    "        return True\n",
    "    return False"
   ]
  },
  {
   "cell_type": "code",
   "execution_count": null,
   "metadata": {},
   "outputs": [],
   "source": [
    "s = \"A man, a plan, a canal: Panama\"\n",
    "isPalindrome(s)"
   ]
  },
  {
   "cell_type": "code",
   "execution_count": null,
   "metadata": {},
   "outputs": [],
   "source": [
    "s = \"race a car\"\n",
    "isPalindrome(s)"
   ]
  },
  {
   "cell_type": "markdown",
   "metadata": {},
   "source": [
    "## Leetcode 136\n"
   ]
  },
  {
   "cell_type": "markdown",
   "metadata": {},
   "source": [
    "Problem: Given a non-empty array of integers, every element appears twice except for one. Find that single one.\n",
    "\n",
    "Input: List of integers\n",
    "\n",
    "Output: integer"
   ]
  },
  {
   "cell_type": "markdown",
   "metadata": {},
   "source": [
    "### Method One\n",
    "\n",
    "Iterate through list and only append integers that do not have a duplicate value.\n",
    "\n",
    "Time complexity: O(N<sup>2</sup>)\n",
    "* Append/remove within a for loop\n",
    "\n",
    "Space complexity: O(N)"
   ]
  },
  {
   "cell_type": "code",
   "execution_count": 48,
   "metadata": {
    "ExecuteTime": {
     "end_time": "2020-07-07T18:53:30.178041Z",
     "start_time": "2020-07-07T18:53:30.174424Z"
    }
   },
   "outputs": [],
   "source": [
    "def singleNumber(nums):\n",
    "    \"\"\"\n",
    "    :type nums: List[int]\n",
    "    :rtype: int\n",
    "    \"\"\"\n",
    "    not_duplicate = []\n",
    "    for i in nums:\n",
    "        if i not in not_duplicate:\n",
    "            not_duplicate.append(i)\n",
    "        else:\n",
    "            not_duplicate.remove(i)  \n",
    "    return not_duplicate.pop()"
   ]
  },
  {
   "cell_type": "markdown",
   "metadata": {},
   "source": [
    "### Method two\n",
    "Use dictionary instead of list to count number of times an integer appears.\n",
    "\n",
    "Time complexity = O(N)\n",
    "* for loop\n",
    "\n",
    "Space complexity = O(N)\n",
    "* dictionary is length N"
   ]
  },
  {
   "cell_type": "code",
   "execution_count": 44,
   "metadata": {
    "ExecuteTime": {
     "end_time": "2020-07-07T18:51:02.485378Z",
     "start_time": "2020-07-07T18:51:02.481978Z"
    }
   },
   "outputs": [],
   "source": [
    "def singleNumber(nums):\n",
    "    \"\"\"\n",
    "    :type nums: List[int]\n",
    "    :rtype: int\n",
    "    \"\"\"\n",
    "    from collections import defaultdict\n",
    "    hash_table = defaultdict(int)\n",
    "    for i in nums:\n",
    "        hash_table[i] += 1\n",
    "\n",
    "    for i in hash_table:\n",
    "        if hash_table[i] == 1:\n",
    "            return i"
   ]
  },
  {
   "cell_type": "code",
   "execution_count": 57,
   "metadata": {
    "ExecuteTime": {
     "end_time": "2020-07-07T19:00:08.070721Z",
     "start_time": "2020-07-07T19:00:08.067329Z"
    }
   },
   "outputs": [
    {
     "data": {
      "text/plain": [
       "0"
      ]
     },
     "execution_count": 57,
     "metadata": {},
     "output_type": "execute_result"
    }
   ],
   "source": [
    "from collections import defaultdict\n",
    "hash_table = defaultdict(int)\n",
    "hash_table[3]"
   ]
  },
  {
   "cell_type": "code",
   "execution_count": 49,
   "metadata": {
    "ExecuteTime": {
     "end_time": "2020-07-07T18:53:30.560254Z",
     "start_time": "2020-07-07T18:53:30.556572Z"
    },
    "scrolled": true
   },
   "outputs": [
    {
     "data": {
      "text/plain": [
       "[4]"
      ]
     },
     "execution_count": 49,
     "metadata": {},
     "output_type": "execute_result"
    }
   ],
   "source": [
    "nums = [4,1,2,1,2]\n",
    "singleNumber(nums)"
   ]
  },
  {
   "cell_type": "markdown",
   "metadata": {},
   "source": [
    "### Method three\n",
    "\n",
    "Count number of times an integer appears, return if count == 1.\n",
    "\n",
    "Time complexity = O(N)\n",
    "* for loop\n",
    "\n",
    "Space complexity = O(N)\n",
    "* Size of nums"
   ]
  },
  {
   "cell_type": "code",
   "execution_count": null,
   "metadata": {
    "ExecuteTime": {
     "end_time": "2020-07-06T19:43:34.064900Z",
     "start_time": "2020-07-06T19:43:34.061533Z"
    }
   },
   "outputs": [],
   "source": [
    "def singleNumber(nums):\n",
    "    \"\"\"\n",
    "    :type nums: List[int]\n",
    "    :rtype: int\n",
    "    \"\"\"\n",
    "    for i in nums:\n",
    "        if nums.count(i)==1:\n",
    "            return i"
   ]
  },
  {
   "cell_type": "markdown",
   "metadata": {},
   "source": [
    "### Method four\n",
    "\n",
    "2*unique values - (list of integers) = integer without duplicate value\n",
    "\n",
    "Time complexity = O(N)\n",
    "* sum\n",
    "\n",
    "Space complexity = O(N)\n",
    "* Size of nums"
   ]
  },
  {
   "cell_type": "code",
   "execution_count": null,
   "metadata": {
    "ExecuteTime": {
     "end_time": "2020-07-06T19:37:47.342367Z",
     "start_time": "2020-07-06T19:37:47.339045Z"
    }
   },
   "outputs": [],
   "source": [
    "def singleNumber(nums):\n",
    "    \"\"\"\n",
    "    :type nums: List[int]\n",
    "    :rtype: int\n",
    "    \"\"\"\n",
    "    return(2*sum(set(nums))-sum(nums))"
   ]
  },
  {
   "cell_type": "markdown",
   "metadata": {},
   "source": [
    "### Examples"
   ]
  },
  {
   "cell_type": "code",
   "execution_count": 45,
   "metadata": {
    "ExecuteTime": {
     "end_time": "2020-07-07T18:51:10.244599Z",
     "start_time": "2020-07-07T18:51:10.240620Z"
    }
   },
   "outputs": [
    {
     "data": {
      "text/plain": [
       "1"
      ]
     },
     "execution_count": 45,
     "metadata": {},
     "output_type": "execute_result"
    }
   ],
   "source": [
    "nums = [2,2,1]\n",
    "singleNumber(nums)"
   ]
  },
  {
   "cell_type": "code",
   "execution_count": null,
   "metadata": {
    "ExecuteTime": {
     "end_time": "2020-07-06T19:43:36.923963Z",
     "start_time": "2020-07-06T19:43:36.919836Z"
    }
   },
   "outputs": [],
   "source": [
    "nums = [4,1,2,1,2]\n",
    "singleNumber(nums)"
   ]
  },
  {
   "cell_type": "markdown",
   "metadata": {},
   "source": [
    "## Leetcode 189"
   ]
  },
  {
   "cell_type": "markdown",
   "metadata": {},
   "source": [
    "Problem: Rotate an array by k steps. For example, [1,2,3,4] rotated by k=1 is [4,1,2,3]\n",
    "\n",
    "Input: List of integers\n",
    "\n",
    "Output: List of integers"
   ]
  },
  {
   "cell_type": "markdown",
   "metadata": {},
   "source": [
    "### Method one\n",
    "\n",
    "Approach: \n",
    "* Store previous value in temporary variable\n",
    "* Replace i value with previous value, and store value in temporary variable ([7,2,3,4,5,6,7], previous = [1])\n",
    "* Go to the next index and replace the value with the previous value, until entire array has been rotated ([7,1,2,3,4,5,6])\n",
    "* Repeat this k times\n",
    "\n",
    "Expected Output: \n",
    "* Original list [1,2,3,4,5,6,7]\n",
    "* rotate once: [7,1,2,3,4,5,6]\n",
    "* rotate twice: [6,7,1,2,3,4,5]\n",
    "* rotate three times: [5,6,7,1,2,3,4]\n",
    "\n",
    "Time complexity:\n",
    "* O(k*N)\n",
    "\n",
    "Space complexity:\n",
    "* O(1)"
   ]
  },
  {
   "cell_type": "code",
   "execution_count": null,
   "metadata": {},
   "outputs": [],
   "source": [
    "def rotate(nums, k):\n",
    "    \"\"\"\n",
    "    :type nums: List[int]\n",
    "    :type k: int\n",
    "    :rtype: None Do not return anything, modify nums in-place instead.\n",
    "    \"\"\"\n",
    "    for i in range(k):\n",
    "        previous = nums[-1]\n",
    "        for j in range(len(nums)):\n",
    "            nums[j], previous = previous, nums[j]\n",
    "    return(nums)"
   ]
  },
  {
   "cell_type": "code",
   "execution_count": null,
   "metadata": {},
   "outputs": [],
   "source": [
    "nums = [1,2,3,4,5,6,7]\n",
    "k = 3\n",
    "rotate(nums,k)"
   ]
  },
  {
   "cell_type": "markdown",
   "metadata": {},
   "source": [
    "### Method two\n",
    "\n",
    "Approach:\n",
    "* Create a new array of length N\n",
    "* Write each element of new array based on k rotations\n",
    "\n",
    "Time Complexity:\n",
    "* O(N) to iterate for i in range\n",
    "\n",
    "Space complexity:\n",
    "* O(1)"
   ]
  },
  {
   "cell_type": "code",
   "execution_count": null,
   "metadata": {},
   "outputs": [],
   "source": [
    "def rotate(nums,k):\n",
    "    \"\"\"\n",
    "    :type nums: List[int]\n",
    "    :type k: int\n",
    "    :rtype: None Do not return anything, modify nums in-place instead.\n",
    "    \"\"\"\n",
    "    new_array = [0]*len(nums)\n",
    "    for i in range(len(nums)):\n",
    "        new_array[(i+k) % len(nums)] = nums[i]\n",
    "    nums[:] = new_array\n",
    "    return(nums)"
   ]
  },
  {
   "cell_type": "code",
   "execution_count": null,
   "metadata": {},
   "outputs": [],
   "source": [
    "nums = [1,2,3,4,5,6,7]\n",
    "k = 3\n",
    "rotate(nums,k)"
   ]
  },
  {
   "cell_type": "markdown",
   "metadata": {},
   "source": [
    "### Method three *\n",
    "\n",
    "Approach:\n",
    "* Rewrite i value as i+k value\n",
    "* Store previous value in a temporary variable\n",
    "* Replace values k steps away, one at a time, while storing previous value in temporary variable.\n",
    "\n",
    "Time complexity: O(N)\n",
    "\n",
    "Space complexity: O(1)"
   ]
  },
  {
   "cell_type": "code",
   "execution_count": null,
   "metadata": {},
   "outputs": [],
   "source": [
    "def rotate(nums: List[int], k: int) -> None:\n",
    "        n = len(nums)\n",
    "        k %= n\n",
    "        \n",
    "        start = count = 0\n",
    "        while count < n:\n",
    "            current, prev = start, nums[start]\n",
    "            while True:\n",
    "                next_idx = (current + k) % n\n",
    "                nums[next_idx], prev = prev, nums[next_idx]\n",
    "                current = next_idx\n",
    "                count += 1\n",
    "                \n",
    "                if start == current:\n",
    "                    break\n",
    "            start += 1"
   ]
  },
  {
   "cell_type": "markdown",
   "metadata": {},
   "source": [
    "### Method 4 *\n",
    "Approach:\n",
    "* Reverse entire array\n",
    "* Reverse the first k elements of the array\n",
    "\n",
    "Time complexity: O(N)\n",
    "\n",
    "Space complexity: O(1)"
   ]
  },
  {
   "cell_type": "code",
   "execution_count": null,
   "metadata": {},
   "outputs": [],
   "source": [
    "class Solution:\n",
    "    def reverse(self, nums: list, start: int, end: int) -> None:\n",
    "        while start < end:\n",
    "            nums[start], nums[end] = nums[end], nums[start]\n",
    "            start, end = start + 1, end - 1\n",
    "                \n",
    "    def rotate(self, nums: List[int], k: int) -> None:\n",
    "        n = len(nums)\n",
    "        k %= n\n",
    "\n",
    "        self.reverse(nums, 0, n - 1)\n",
    "        self.reverse(nums, 0, k - 1)\n",
    "        self.reverse(nums, k, n - 1)"
   ]
  },
  {
   "cell_type": "markdown",
   "metadata": {},
   "source": [
    "## Leetcode 217"
   ]
  },
  {
   "cell_type": "markdown",
   "metadata": {},
   "source": [
    "Problem: Return True if array contains a duplicate. Return False if array has all unique values.\n",
    "\n",
    "Data: Array of integers\n",
    "\n",
    "Output: Boolean"
   ]
  },
  {
   "cell_type": "markdown",
   "metadata": {},
   "source": [
    "### Method one\n",
    "\n",
    "Approach:\n",
    "* Remove duplicate elements\n",
    "* If len(final) == len(initial), return False\n",
    "\n",
    "Expected output:\n",
    "* There is a duplicate value, so function should return True"
   ]
  },
  {
   "cell_type": "code",
   "execution_count": null,
   "metadata": {},
   "outputs": [],
   "source": [
    "def containsDuplicate(nums):\n",
    "    \"\"\"\n",
    "    :type nums: List[int]\n",
    "    :rtype: bool\n",
    "    \"\"\"\n",
    "    sort_nums = sorted(nums)\n",
    "    for i in reversed(range(1,len(nums))):\n",
    "        if sort_nums[i] == sort_nums[i-1]:\n",
    "            sort_nums.pop(i)\n",
    "    if len(nums) == len(sort_nums):\n",
    "        return (False)\n",
    "    else:\n",
    "        return(True)"
   ]
  },
  {
   "cell_type": "code",
   "execution_count": null,
   "metadata": {},
   "outputs": [],
   "source": [
    "nums = [1,2,3,1]\n",
    "containsDuplicate(nums)"
   ]
  },
  {
   "cell_type": "markdown",
   "metadata": {},
   "source": [
    "### Method two\n",
    "\n",
    "Approach:\n",
    "* Use set to find unique values\n",
    "* Return True if len(nums) != len(unique values)\n",
    "\n",
    "Expected output:\n",
    "* There is a duplicate value, so function should return True"
   ]
  },
  {
   "cell_type": "code",
   "execution_count": null,
   "metadata": {},
   "outputs": [],
   "source": [
    "def containsDuplicate(nums):\n",
    "    \"\"\"\n",
    "    :type nums: List[int]\n",
    "    :rtype: bool\n",
    "    \"\"\"\n",
    "    return len(nums) != len(set(nums))"
   ]
  },
  {
   "cell_type": "markdown",
   "metadata": {},
   "source": [
    "## Leetcode 242"
   ]
  },
  {
   "cell_type": "markdown",
   "metadata": {
    "ExecuteTime": {
     "end_time": "2020-07-08T04:56:01.942504Z",
     "start_time": "2020-07-08T04:56:01.937991Z"
    }
   },
   "source": [
    "Problem: Given two strings s and t , write a function to determine if t is an anagram of s.\n",
    "\n",
    "Input: string\n",
    "\n",
    "Output: string    "
   ]
  },
  {
   "cell_type": "code",
   "execution_count": null,
   "metadata": {},
   "outputs": [],
   "source": [
    "    def isAnagram(self, s, t):\n",
    "        \"\"\"\n",
    "        :type s: str\n",
    "        :type t: str\n",
    "        :rtype: bool\n",
    "        \"\"\"\n",
    "        if len(s) != len(t):\n",
    "            return False\n",
    "        counter = {}\n",
    "        \n",
    "        for letter in s:\n",
    "            if letter not in counter:\n",
    "                counter[letter] = 1\n",
    "            else: \n",
    "                counter[letter] += 1\n",
    "        for letter in t:\n",
    "            if letter not in counter:\n",
    "                return False\n",
    "            else: \n",
    "                counter[letter] -= 1\n",
    "                if counter[letter] < 0:\n",
    "                    return False\n",
    "        return True"
   ]
  },
  {
   "cell_type": "markdown",
   "metadata": {},
   "source": [
    "## Leetcode 350"
   ]
  },
  {
   "cell_type": "markdown",
   "metadata": {},
   "source": [
    "Problem: Given two arrays, write a function to compute their intersection.\n",
    "\n",
    "Input: Two List of integers\n",
    "\n",
    "Output: List of integers"
   ]
  },
  {
   "cell_type": "code",
   "execution_count": null,
   "metadata": {
    "ExecuteTime": {
     "end_time": "2020-07-06T22:33:03.413983Z",
     "start_time": "2020-07-06T22:33:03.408279Z"
    }
   },
   "outputs": [],
   "source": [
    "def intersect(nums1, nums2):\n",
    "    \"\"\"\n",
    "    :type nums1: List[int]\n",
    "    :type nums2: List[int]\n",
    "    :rtype: List[int]\n",
    "    \"\"\"\n",
    "    # Sort lists\n",
    "    nums1 = sorted(nums1)\n",
    "    nums2 = sorted(nums2)\n",
    "\n",
    "    # Order by list size\n",
    "    if len(nums2) < len(nums1):\n",
    "        nums1, nums2 = nums2, nums1\n",
    "    intersection = []\n",
    "    i = j = 0\n",
    "\n",
    "    # Compute intersection\n",
    "    while i < len(nums1) and j < len(nums2):\n",
    "        if nums1[i] == nums2[j]:\n",
    "            intersection.append(nums1[i])\n",
    "            i += 1\n",
    "            j += 1\n",
    "        elif nums1[i] < nums2[j]:\n",
    "                i += 1\n",
    "        else: # nums1[i] > nums2[j]\n",
    "                j += 1\n",
    "\n",
    "    return(intersection)"
   ]
  },
  {
   "cell_type": "code",
   "execution_count": null,
   "metadata": {
    "ExecuteTime": {
     "end_time": "2020-07-06T22:33:09.082351Z",
     "start_time": "2020-07-06T22:33:09.077682Z"
    }
   },
   "outputs": [],
   "source": [
    "nums1 = [1,2,2,1]\n",
    "nums2 = [2,2]\n",
    "intersect(nums1, nums2)"
   ]
  },
  {
   "cell_type": "code",
   "execution_count": null,
   "metadata": {
    "ExecuteTime": {
     "end_time": "2020-07-06T22:33:26.745360Z",
     "start_time": "2020-07-06T22:33:26.740510Z"
    }
   },
   "outputs": [],
   "source": [
    "nums1 = [4,9,5]\n",
    "nums2 = [9,4,9,8,4]\n",
    "intersect(nums1, nums2)"
   ]
  },
  {
   "cell_type": "markdown",
   "metadata": {},
   "source": [
    "## Leetcode 1207"
   ]
  },
  {
   "cell_type": "markdown",
   "metadata": {},
   "source": [
    "Problem: Given an array of integers arr, write a function that returns true if and only if the number of occurrences of each value in the array is unique.\n",
    "\n",
    "Data: Array of integers\n",
    "\n",
    "Output: Boolean"
   ]
  },
  {
   "cell_type": "markdown",
   "metadata": {},
   "source": [
    "### Method one\n",
    "\n",
    "Approach:\n",
    "* Create dictionary of counts for each unique value\n",
    "* Sort values\n",
    "* Remove duplicate elements\n",
    "* If lengths of arrays are the same (i.e., all unique values had a unique number of occurances), return True\n",
    "\n",
    "Time Complexity: Total computation time of `unique_num`: 1 + (N\\*1) + N\\*log(N) + (N\\*1\\*k) + 2\\*N\n",
    "* create empty list = constant time\n",
    "* for loop using set() = N\n",
    "* append() = constant time\n",
    "    * Total computational time of for loop = N*1 = N\n",
    "* sorted() = N*log(N)\n",
    "* for loop using len() = N\n",
    "* for loop using conditional statement = constant time\n",
    "* pop() = k\n",
    "    * Total computational time of for loop = \"k times N\"\n",
    "* len() = constant time\n",
    "\n",
    "The biggest time constraint is the `sorted` function (NlogN). \n",
    "\n",
    "How would you make this function more efficient?\n",
    "* To improve the function, we can improve sorting using `set` or using `dict` approach instead of `sorted`."
   ]
  },
  {
   "cell_type": "code",
   "execution_count": null,
   "metadata": {},
   "outputs": [],
   "source": [
    "def unique_num(nums):\n",
    "    counts=[] # constant time (= 1)\n",
    "    for i in set(nums): # N, total time for this loop is N * 1\n",
    "        counts.append(nums.count(i)) # constant time (= 1)\n",
    "    counts_sorted = sorted(counts) # N log N\n",
    "    for i in range(len(counts)-1): # N\n",
    "        if counts_sorted[i] == counts_sorted[i+1]: # constant time\n",
    "            counts_sorted.pop(i) # k, depends on where the element are \"popped\" . If it's the last element, then it will be N\n",
    "    return(len(counts)==len(counts_sorted)) # 2*constant time"
   ]
  },
  {
   "cell_type": "code",
   "execution_count": null,
   "metadata": {},
   "outputs": [],
   "source": [
    "arr = [1,2,2,1,1,3]\n",
    "unique_num(arr)"
   ]
  },
  {
   "cell_type": "code",
   "execution_count": null,
   "metadata": {},
   "outputs": [],
   "source": [
    "arr = [1,2]\n",
    "unique_num(arr)"
   ]
  },
  {
   "cell_type": "code",
   "execution_count": null,
   "metadata": {},
   "outputs": [],
   "source": [
    "arr = [-3,0,1,-3,1,1,1,-3,10,0]\n",
    "unique_num(arr)"
   ]
  },
  {
   "cell_type": "code",
   "execution_count": null,
   "metadata": {},
   "outputs": [],
   "source": []
  }
 ],
 "metadata": {
  "kernelspec": {
   "display_name": "Python 3",
   "language": "python",
   "name": "python3"
  },
  "language_info": {
   "codemirror_mode": {
    "name": "ipython",
    "version": 3
   },
   "file_extension": ".py",
   "mimetype": "text/x-python",
   "name": "python",
   "nbconvert_exporter": "python",
   "pygments_lexer": "ipython3",
   "version": "3.7.6"
  },
  "toc": {
   "base_numbering": 1,
   "nav_menu": {},
   "number_sections": true,
   "sideBar": true,
   "skip_h1_title": false,
   "title_cell": "Table of Contents",
   "title_sidebar": "Contents",
   "toc_cell": false,
   "toc_position": {
    "height": "calc(100% - 180px)",
    "left": "10px",
    "top": "150px",
    "width": "277.812px"
   },
   "toc_section_display": true,
   "toc_window_display": true
  }
 },
 "nbformat": 4,
 "nbformat_minor": 4
}
