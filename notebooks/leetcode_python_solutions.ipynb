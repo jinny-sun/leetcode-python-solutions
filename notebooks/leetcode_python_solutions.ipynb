{
 "cells": [
  {
   "cell_type": "markdown",
   "metadata": {},
   "source": [
    "# Easy Leetcode Practice Questions"
   ]
  },
  {
   "cell_type": "markdown",
   "metadata": {},
   "source": [
    "## Leetcode 26\n",
    "\n",
    "Problem: Return length of unique values. Don't have to remove duplicate elements from nums.\n",
    "\n",
    "Data: List of integers\n",
    "\n",
    "Output: Number of unique values (integer)"
   ]
  },
  {
   "cell_type": "markdown",
   "metadata": {},
   "source": [
    "### Method one\n",
    "Approach:\n",
    "* If a number (i) if the same as previous number (i-1), remove it. \n",
    "* Return the length of the list, which gives the number of unique values\n",
    "\n",
    "Expected output:\n",
    "* One duplicate number, so final length should be len(nums)-1 = 2\n",
    "\n",
    "Time complexity:\n",
    "* O(k*N) due to pop duplicate at k location and for loop of length N.\n",
    "\n",
    "Space complexity: \n",
    "* O(1)"
   ]
  },
  {
   "cell_type": "code",
   "execution_count": 1,
   "metadata": {},
   "outputs": [],
   "source": [
    "def removeDuplicates(nums):\n",
    "    \"\"\"\n",
    "    :type nums: List[int]\n",
    "    :rtype: int\n",
    "    \"\"\"\n",
    "    if len(nums) == 0:\n",
    "        return 0\n",
    "    for i in reversed(range(1,len(nums))):\n",
    "        if nums[i] == nums[i-1]:\n",
    "            nums.pop(i)\n",
    "    return len(nums)"
   ]
  },
  {
   "cell_type": "code",
   "execution_count": 2,
   "metadata": {
    "scrolled": true
   },
   "outputs": [
    {
     "data": {
      "text/plain": [
       "2"
      ]
     },
     "execution_count": 2,
     "metadata": {},
     "output_type": "execute_result"
    }
   ],
   "source": [
    "nums = [1, 1, 2]\n",
    "removeDuplicates(nums)"
   ]
  },
  {
   "cell_type": "markdown",
   "metadata": {},
   "source": [
    "### Method two\n",
    "Approach:\n",
    "* Find unique values using `set`, which returns a dictionary of unique values.\n",
    "* Convert dictionary into string to get list of unique values\n",
    "* Return length of list to get number of unique values\n",
    "\n",
    "Expected output:\n",
    "* One duplicate number, so final length should be len(nums)-1 = 2\n",
    "\n",
    "Time complexity:\n",
    "* O(N) for set?\n",
    "\n",
    "Space complexity: \n",
    "* O(1)"
   ]
  },
  {
   "cell_type": "code",
   "execution_count": 12,
   "metadata": {},
   "outputs": [
    {
     "data": {
      "text/plain": [
       "2"
      ]
     },
     "execution_count": 12,
     "metadata": {},
     "output_type": "execute_result"
    }
   ],
   "source": [
    "def removeDuplicates(nums):\n",
    "    \"\"\"\n",
    "    :type nums: List[int]\n",
    "    :rtype: int\n",
    "    \"\"\"\n",
    "    nums[:] = list(set(nums))\n",
    "    return len(nums)\n",
    "\n",
    "nums = [1, 1, 2]\n",
    "removeDuplicates(nums)"
   ]
  },
  {
   "cell_type": "markdown",
   "metadata": {},
   "source": [
    "This method doesn't work for this example however since it returns the list with the negative as the highest value. Need to sort the output array.\n",
    "\n",
    "Time complexity: \n",
    "* O(N<sup>2</sup>logN) for sorted (NlogN) and set (N)?"
   ]
  },
  {
   "cell_type": "code",
   "execution_count": 13,
   "metadata": {},
   "outputs": [
    {
     "data": {
      "text/plain": [
       "3"
      ]
     },
     "execution_count": 13,
     "metadata": {},
     "output_type": "execute_result"
    }
   ],
   "source": [
    "def removeDuplicates(nums):\n",
    "    \"\"\"\n",
    "    :type nums: List[int]\n",
    "    :rtype: int\n",
    "    \"\"\"\n",
    "    nums[:] = sorted(list(set(nums)))\n",
    "    return len(nums)\n",
    "\n",
    "nums = [-1,0,0,0,0,3,3]\n",
    "removeDuplicates(nums)"
   ]
  },
  {
   "cell_type": "markdown",
   "metadata": {},
   "source": [
    "## Leetcode 122\n",
    "\n",
    "Problem: Calculate max profit given price per day. Can only purchase and sell one stock at a time.\n",
    "\n",
    "Data: List of Integers\n",
    "\n",
    "Output: Maximum profit (integer)\n",
    "\n",
    "### Method one\n",
    "Approach:\n",
    "* Calculate differences between stock prices each day. If prices increase, add the difference between the two prices.\n",
    "* Return the summed profits\n",
    "\n",
    "Expected output: 7\n",
    "* 1-7 = no profit\n",
    "* 5-1 = 4\n",
    "* 3-5 = no profit\n",
    "* 6-3 = 3\n",
    "* 4-6 = no profit\n",
    "\n",
    "Time complexity: \n",
    "* O(N)\n",
    "\n",
    "Space complexity:\n",
    "* O(1)"
   ]
  },
  {
   "cell_type": "code",
   "execution_count": 3,
   "metadata": {},
   "outputs": [],
   "source": [
    "def maxProfit(prices):\n",
    "    \"\"\"\n",
    "    :type prices: List[int]\n",
    "    :rtype: int\n",
    "    \"\"\"\n",
    "    maxprofit = 0\n",
    "    for i in range(1,len(prices)):\n",
    "        if prices[i] > prices [i-1]:\n",
    "            maxprofit += prices[i] - prices[i-1]\n",
    "    return(maxprofit)"
   ]
  },
  {
   "cell_type": "code",
   "execution_count": 4,
   "metadata": {},
   "outputs": [
    {
     "data": {
      "text/plain": [
       "7"
      ]
     },
     "execution_count": 4,
     "metadata": {},
     "output_type": "execute_result"
    }
   ],
   "source": [
    "prices = [7,1,5,3,6,4]\n",
    "maxProfit(prices)"
   ]
  },
  {
   "cell_type": "markdown",
   "metadata": {},
   "source": [
    "## Leetcode 189\n",
    "\n",
    "Problem: Rotate an array by k steps. For example, [1,2,3,4] rotated by k=1 is [4,1,2,3]\n",
    "\n",
    "Data: List of integers\n",
    "\n",
    "Output: List of integers\n",
    "\n",
    "### Method one\n",
    "\n",
    "Approach: \n",
    "* Rotate list by 1\n",
    "* Repeat this k times\n",
    "\n",
    "Expected Output: \n",
    "* Original list [1,2,3,4,5,6,7]\n",
    "* rotate once: [7,1,2,3,4,5,6]\n",
    "* rotate twice: [6,7,1,2,3,4,5]\n",
    "* rotate three times: [5,6,7,1,2,3,4]"
   ]
  },
  {
   "cell_type": "code",
   "execution_count": 5,
   "metadata": {},
   "outputs": [],
   "source": [
    "def rotate(nums, k):\n",
    "    \"\"\"\n",
    "    :type nums: List[int]\n",
    "    :type k: int\n",
    "    :rtype: None Do not return anything, modify nums in-place instead.\n",
    "    \"\"\"\n",
    "    for i in range(k):\n",
    "        previous = nums[-1]\n",
    "        for j in range(len(nums)):\n",
    "            nums[j], previous = previous, nums[j]\n",
    "    return(nums)"
   ]
  },
  {
   "cell_type": "code",
   "execution_count": 6,
   "metadata": {},
   "outputs": [
    {
     "data": {
      "text/plain": [
       "[5, 6, 7, 1, 2, 3, 4]"
      ]
     },
     "execution_count": 6,
     "metadata": {},
     "output_type": "execute_result"
    }
   ],
   "source": [
    "nums = [1,2,3,4,5,6,7]\n",
    "k = 3\n",
    "rotate(nums,k)"
   ]
  },
  {
   "cell_type": "markdown",
   "metadata": {},
   "source": [
    "## Leetcode 217\n",
    "\n",
    "Problem: Return True if array contains a duplicate. Return False if array has all unique values.\n",
    "\n",
    "Data: Array of integers\n",
    "\n",
    "Output: Boolean\n",
    "\n",
    "### Method one\n",
    "\n",
    "Approach:\n",
    "* Remove duplicate elements\n",
    "* If len(final) == len(initial), return False\n",
    "\n",
    "Expected output:\n",
    "* There is a duplicate value, so function should return True"
   ]
  },
  {
   "cell_type": "code",
   "execution_count": 7,
   "metadata": {},
   "outputs": [],
   "source": [
    "def containsDuplicate(nums):\n",
    "    \"\"\"\n",
    "    :type nums: List[int]\n",
    "    :rtype: bool\n",
    "    \"\"\"\n",
    "    sort_nums = sorted(nums)\n",
    "    for i in reversed(range(1,len(nums))):\n",
    "        if sort_nums[i] == sort_nums[i-1]:\n",
    "            sort_nums.pop(i)\n",
    "    if len(nums) == len(sort_nums):\n",
    "        return (False)\n",
    "    else:\n",
    "        return(True)"
   ]
  },
  {
   "cell_type": "code",
   "execution_count": 8,
   "metadata": {},
   "outputs": [
    {
     "data": {
      "text/plain": [
       "True"
      ]
     },
     "execution_count": 8,
     "metadata": {},
     "output_type": "execute_result"
    }
   ],
   "source": [
    "nums = [1,2,3,1]\n",
    "containsDuplicate(nums)"
   ]
  },
  {
   "cell_type": "markdown",
   "metadata": {},
   "source": [
    "### Method 2: using hash table (dictionary)\n"
   ]
  },
  {
   "cell_type": "code",
   "execution_count": null,
   "metadata": {},
   "outputs": [],
   "source": []
  },
  {
   "cell_type": "markdown",
   "metadata": {},
   "source": [
    "## Leetcode 1207\n",
    "\n",
    "Problem: Given an array of integers arr, write a function that returns true if and only if the number of occurrences of each value in the array is unique.\n",
    "\n",
    "Data: Array of integers\n",
    "\n",
    "Output: Boolean\n",
    "\n",
    "### Method one\n",
    "\n",
    "Approach:\n",
    "* Create dictionary of counts for each unique value\n",
    "* Sort values\n",
    "* Remove duplicate elements\n",
    "* If lengths of arrays are the same (i.e., all unique values had a unique number of occurances), return True\n",
    "\n",
    "Time Complexity: Total computation time of `unique_num`: 1 + (N\\*1) + N\\*log(N) + (N\\*1\\*k) + 2\\*N\n",
    "* create empty list = constant time\n",
    "* for loop using set() = N\n",
    "* append() = constant time\n",
    "    * Total computational time of for loop = N*1 = N\n",
    "* sorted() = N*log(N)\n",
    "* for loop using len() = N\n",
    "* for loop using conditional statement = constant time\n",
    "* pop() = k\n",
    "    * Total computational time of for loop = \"k times N\"\n",
    "* len() = constant time\n",
    "\n",
    "The biggest time constraint is the `sorted` function (NlogN). \n",
    "\n",
    "How would you make this function more efficient?\n",
    "* To improve the function, we can improve sorting using `set` or using `dict` approach instead of `sorted`."
   ]
  },
  {
   "cell_type": "code",
   "execution_count": null,
   "metadata": {},
   "outputs": [],
   "source": [
    "def unique_num(nums):\n",
    "    counts=[] # constant time (= 1)\n",
    "    for i in set(nums): # N, total time for this loop is N * 1\n",
    "        counts.append(nums.count(i)) # constant time (= 1)\n",
    "    counts_sorted = sorted(counts) # N log N\n",
    "    for i in range(len(counts)-1): # N\n",
    "        if counts_sorted[i] == counts_sorted[i+1]: # constant time\n",
    "            counts_sorted.pop(i) # k, depends on where the element are \"popped\" . If it's the last element, then it will be N\n",
    "    return(len(counts)==len(counts_sorted)) # 2*constant time"
   ]
  },
  {
   "cell_type": "code",
   "execution_count": null,
   "metadata": {},
   "outputs": [],
   "source": [
    "arr = [1,2,2,1,1,3]\n",
    "unique_num(arr)"
   ]
  },
  {
   "cell_type": "code",
   "execution_count": null,
   "metadata": {},
   "outputs": [],
   "source": [
    "arr = [1,2]\n",
    "unique_num(arr)"
   ]
  },
  {
   "cell_type": "code",
   "execution_count": null,
   "metadata": {},
   "outputs": [],
   "source": [
    "arr = [-3,0,1,-3,1,1,1,-3,10,0]\n",
    "unique_num(arr)"
   ]
  },
  {
   "cell_type": "code",
   "execution_count": null,
   "metadata": {},
   "outputs": [],
   "source": []
  }
 ],
 "metadata": {
  "kernelspec": {
   "display_name": "Python 3",
   "language": "python",
   "name": "python3"
  },
  "language_info": {
   "codemirror_mode": {
    "name": "ipython",
    "version": 3
   },
   "file_extension": ".py",
   "mimetype": "text/x-python",
   "name": "python",
   "nbconvert_exporter": "python",
   "pygments_lexer": "ipython3",
   "version": "3.7.6"
  },
  "toc": {
   "base_numbering": 1,
   "nav_menu": {},
   "number_sections": true,
   "sideBar": true,
   "skip_h1_title": false,
   "title_cell": "Table of Contents",
   "title_sidebar": "Contents",
   "toc_cell": false,
   "toc_position": {},
   "toc_section_display": true,
   "toc_window_display": false
  }
 },
 "nbformat": 4,
 "nbformat_minor": 4
}
